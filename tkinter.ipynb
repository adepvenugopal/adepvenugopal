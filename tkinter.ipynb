{
 "cells": [
  {
   "cell_type": "markdown",
   "metadata": {},
   "source": [
    "# Tkinter Tutorial"
   ]
  },
  {
   "cell_type": "markdown",
   "metadata": {},
   "source": [
    "**Blank Window**"
   ]
  },
  {
   "cell_type": "code",
   "execution_count": 49,
   "metadata": {},
   "outputs": [],
   "source": [
    "from tkinter import *\n",
    "window = Tk()\n",
    "window.mainloop()"
   ]
  },
  {
   "cell_type": "markdown",
   "metadata": {},
   "source": [
    "**Blank Window with Title**"
   ]
  },
  {
   "cell_type": "code",
   "execution_count": 51,
   "metadata": {},
   "outputs": [],
   "source": [
    "from tkinter import *\n",
    "window = Tk()\n",
    "\n",
    "window.title(\"This is window's title\")\n",
    "\n",
    "window.mainloop()"
   ]
  },
  {
   "cell_type": "markdown",
   "metadata": {},
   "source": [
    "**Label & Title**"
   ]
  },
  {
   "cell_type": "code",
   "execution_count": 52,
   "metadata": {},
   "outputs": [],
   "source": [
    "window = Tk()\n",
    "window.title(\"This is windows title\")\n",
    "\n",
    "lbl = Label(window, text=\"This is label\")\n",
    "lbl.grid(column=0, row=0)\n",
    "\n",
    "window.mainloop()"
   ]
  },
  {
   "cell_type": "markdown",
   "metadata": {},
   "source": [
    "**Bigger Bolder Label & Title**"
   ]
  },
  {
   "cell_type": "code",
   "execution_count": 53,
   "metadata": {},
   "outputs": [],
   "source": [
    "window = Tk()\n",
    "window.title(\"This is windows title\")\n",
    "\n",
    "lbl = Label(window, text=\"This is label with Arial font and size 50\", font=(\"Arial Bold\", 50))\n",
    "lbl.grid(column=0, row=0)\n",
    "\n",
    "window.mainloop()"
   ]
  },
  {
   "cell_type": "markdown",
   "metadata": {},
   "source": [
    "**Window size**"
   ]
  },
  {
   "cell_type": "code",
   "execution_count": 58,
   "metadata": {},
   "outputs": [],
   "source": [
    "window = Tk()\n",
    "window.title(\"Title\")\n",
    "lbl = Label(window, text=\"Label: Observe that window size is now 350x200\")\n",
    "lbl.grid(column=0, row=0)\n",
    "window.geometry('350x200')\n",
    "window.mainloop()"
   ]
  },
  {
   "cell_type": "markdown",
   "metadata": {},
   "source": [
    "**Button**"
   ]
  },
  {
   "cell_type": "code",
   "execution_count": 68,
   "metadata": {},
   "outputs": [],
   "source": [
    "window = Tk()\n",
    "btn = Button(window, text=\"I am button\")\n",
    "btn.grid(column=0, row=0)\n",
    "window.mainloop()"
   ]
  },
  {
   "cell_type": "markdown",
   "metadata": {},
   "source": [
    "**Button with Label**"
   ]
  },
  {
   "cell_type": "code",
   "execution_count": 75,
   "metadata": {},
   "outputs": [],
   "source": [
    "from tkinter import *\n",
    "window = Tk()\n",
    "window.title(\"Title\")\n",
    "window.geometry('350x200')\n",
    "lbl = Label(window, text=\"Label\")\n",
    "lbl.grid(column=0, row=0)\n",
    "btn = Button(window, text=\"Button\")\n",
    "btn.grid(column=1, row=0)\n",
    "window.mainloop()"
   ]
  },
  {
   "cell_type": "markdown",
   "metadata": {},
   "source": [
    "**Colored Button with Label**"
   ]
  },
  {
   "cell_type": "code",
   "execution_count": 77,
   "metadata": {},
   "outputs": [],
   "source": [
    "from tkinter import *\n",
    "window = Tk()\n",
    "window.title(\"Title\")\n",
    "window.geometry('350x200')\n",
    "lbl = Label(window, text=\"Label\")\n",
    "lbl.grid(column=0, row=0)\n",
    "btn = Button(window, text=\"Colored Button\", bg=\"orange\", fg=\"red\")\n",
    "btn.grid(column=1, row=0)\n",
    "window.mainloop()"
   ]
  },
  {
   "cell_type": "markdown",
   "metadata": {},
   "source": [
    "**Label, Text Box & Button**"
   ]
  },
  {
   "cell_type": "code",
   "execution_count": 95,
   "metadata": {},
   "outputs": [],
   "source": [
    "from tkinter import *\n",
    "window = Tk()\n",
    "window.title(\"Hey, Look at the Label, Text box and Button\")\n",
    "window.geometry('350x200')\n",
    "\n",
    "lbl = Label(window, text=\"Label\")\n",
    "lbl.grid(column=0, row=0)\n",
    " \n",
    "txt = Entry(window,width=10)\n",
    "txt.grid(column=1, row=0)\n",
    " \n",
    "btn = Button(window, text=\"Button\")\n",
    "btn.grid(column=2, row=0)\n",
    "\n",
    "window.mainloop()"
   ]
  },
  {
   "cell_type": "markdown",
   "metadata": {},
   "source": [
    "**Interactive Button**"
   ]
  },
  {
   "cell_type": "code",
   "execution_count": 93,
   "metadata": {},
   "outputs": [],
   "source": [
    "from tkinter import *\n",
    "\n",
    "window = Tk()\n",
    "window.title(\"Enter something in the Text Box and Click on the Button\")\n",
    "window.geometry('350x200')\n",
    "\n",
    "lbl = Label(window, text=\"Label\")\n",
    "lbl.grid(column=0, row=0)\n",
    " \n",
    "txt = Entry(window,width=10)\n",
    "txt.grid(column=1, row=0)\n",
    " \n",
    "def clicked():\n",
    "    res = \"Welcome to \" + txt.get()\n",
    "    lbl.configure(text= res)\n",
    " \n",
    "btn = Button(window, text=\"Button\", command=clicked)\n",
    "btn.grid(column=2, row=0)\n",
    "window.mainloop()"
   ]
  },
  {
   "cell_type": "markdown",
   "metadata": {},
   "source": [
    "**Combo Box**"
   ]
  },
  {
   "cell_type": "code",
   "execution_count": 90,
   "metadata": {},
   "outputs": [],
   "source": [
    "from tkinter import *\n",
    "from tkinter.ttk import *\n",
    "\n",
    "window = Tk()\n",
    "window.title(\"Experiment with Combo Box\")\n",
    "window.geometry('350x200')\n",
    "\n",
    "combo = Combobox(window)\n",
    "combo['values']= (1, 2, 3, 4, 5, \"Text\")\n",
    "combo.current(1) #set the selected item\n",
    "combo.grid(column=0, row=0)\n",
    "\n",
    "window.mainloop()"
   ]
  },
  {
   "cell_type": "markdown",
   "metadata": {},
   "source": [
    "**Checkbox**"
   ]
  },
  {
   "cell_type": "code",
   "execution_count": 98,
   "metadata": {},
   "outputs": [],
   "source": [
    "from tkinter import *\n",
    "from tkinter.ttk import *\n",
    "\n",
    "window = Tk()\n",
    "window.title(\"Choose something from Combo box\")\n",
    "window.geometry('350x200')\n",
    "\n",
    "chk_state = BooleanVar()\n",
    "chk_state.set(True) #set check state\n",
    "chk = Checkbutton(window, text='Choose', var=chk_state)\n",
    "chk.grid(column=0, row=0)\n",
    "\n",
    "window.mainloop()"
   ]
  },
  {
   "cell_type": "markdown",
   "metadata": {},
   "source": [
    "**Radio Button**"
   ]
  },
  {
   "cell_type": "code",
   "execution_count": 100,
   "metadata": {},
   "outputs": [],
   "source": [
    "from tkinter import *\n",
    "from tkinter.ttk import *\n",
    "window = Tk()\n",
    "window.title(\"Radio Buttons\")\n",
    "window.geometry('350x200')\n",
    "\n",
    "rad1 = Radiobutton(window,text='First', value=1)\n",
    "rad2 = Radiobutton(window,text='Second', value=2)\n",
    "rad3 = Radiobutton(window,text='Third', value=3)\n",
    "rad1.grid(column=0, row=0)\n",
    "rad2.grid(column=1, row=0)\n",
    "rad3.grid(column=2, row=0)\n",
    "\n",
    "window.mainloop()"
   ]
  },
  {
   "cell_type": "markdown",
   "metadata": {},
   "source": [
    "**Radio Button and Button**"
   ]
  },
  {
   "cell_type": "code",
   "execution_count": 104,
   "metadata": {},
   "outputs": [
    {
     "name": "stdout",
     "output_type": "stream",
     "text": [
      "3\n"
     ]
    }
   ],
   "source": [
    "from tkinter import *\n",
    "from tkinter.ttk import *\n",
    "window = Tk()\n",
    "window.title(\"Select the Radio button and click on Button\")\n",
    "\n",
    "selected = IntVar()\n",
    "rad1 = Radiobutton(window,text='First', value=1, variable=selected)\n",
    "rad2 = Radiobutton(window,text='Second', value=2, variable=selected)\n",
    "rad3 = Radiobutton(window,text='Third', value=3, variable=selected)\n",
    " \n",
    "def clicked():\n",
    "   print(selected.get())\n",
    " \n",
    "btn = Button(window, text=\"Click Me\", command=clicked)\n",
    "\n",
    "rad1.grid(column=0, row=0)\n",
    "rad2.grid(column=1, row=0)\n",
    "rad3.grid(column=2, row=0)\n",
    "btn.grid(column=3, row=0)\n",
    "\n",
    "window.mainloop()"
   ]
  },
  {
   "cell_type": "markdown",
   "metadata": {},
   "source": [
    "**Textbox with Scroller**"
   ]
  },
  {
   "cell_type": "code",
   "execution_count": 105,
   "metadata": {},
   "outputs": [],
   "source": [
    "from tkinter import *\n",
    "from tkinter import scrolledtext\n",
    "window = Tk()\n",
    "window.title(\"Fill the textbox and notice the Scroller\")\n",
    "window.geometry('350x200')\n",
    "\n",
    "txt = scrolledtext.ScrolledText(window,width=40,height=10)\n",
    "txt.grid(column=0,row=0)\n",
    "\n",
    "window.mainloop()"
   ]
  },
  {
   "cell_type": "markdown",
   "metadata": {},
   "source": [
    "**Button and Dialog box**"
   ]
  },
  {
   "cell_type": "code",
   "execution_count": 107,
   "metadata": {},
   "outputs": [],
   "source": [
    "from tkinter import *\n",
    "from tkinter import messagebox\n",
    "\n",
    "window = Tk()\n",
    "window.title(\"Click on the Button and observe the Message box\")\n",
    "window.geometry('350x200')\n",
    "\n",
    "def clicked():\n",
    "    messagebox.showinfo('Message title', 'Message content')\n",
    " \n",
    "btn = Button(window,text='Click here', command=clicked)\n",
    "btn.grid(column=0,row=0)\n",
    "window.mainloop()"
   ]
  },
  {
   "cell_type": "markdown",
   "metadata": {},
   "source": [
    "**Spinbox**"
   ]
  },
  {
   "cell_type": "code",
   "execution_count": 109,
   "metadata": {},
   "outputs": [],
   "source": [
    "from tkinter import *\n",
    "window = Tk()\n",
    "window.title(\"Experiment with Spinbox\")\n",
    "window.geometry('350x200')\n",
    "\n",
    "spin = Spinbox(window, from_=0, to=100, width=5)\n",
    "spin.grid(column=0,row=0)\n",
    "\n",
    "window.mainloop()"
   ]
  },
  {
   "cell_type": "markdown",
   "metadata": {},
   "source": [
    "**Progress Bar**"
   ]
  },
  {
   "cell_type": "code",
   "execution_count": 111,
   "metadata": {},
   "outputs": [],
   "source": [
    "from tkinter import *\n",
    "from tkinter.ttk import Progressbar\n",
    "from tkinter import ttk\n",
    "\n",
    "window = Tk()\n",
    "window.title(\"Observe the Progress Bar\")\n",
    "window.geometry('350x200')\n",
    "\n",
    "style = ttk.Style()\n",
    "style.theme_use('default')\n",
    "style.configure(\"black.Horizontal.TProgressbar\", background='black')\n",
    "\n",
    "bar = Progressbar(window, length=200, style='black.Horizontal.TProgressbar')\n",
    "bar['value'] = 90\n",
    "bar.grid(column=0, row=0)\n",
    "\n",
    "window.mainloop()"
   ]
  },
  {
   "cell_type": "markdown",
   "metadata": {},
   "source": [
    "**Menu**"
   ]
  },
  {
   "cell_type": "code",
   "execution_count": 115,
   "metadata": {},
   "outputs": [],
   "source": [
    "from tkinter import *\n",
    "from tkinter import Menu\n",
    "\n",
    "window = Tk()\n",
    "window.title(\"Click on the Menu : File\")\n",
    "\n",
    "menu = Menu(window)\n",
    "new_item = Menu(menu)\n",
    "new_item.add_command(label='New')\n",
    "\n",
    "menu.add_cascade(label='File', menu=new_item)\n",
    "window.config(menu=menu)\n",
    "\n",
    "window.mainloop()"
   ]
  },
  {
   "cell_type": "markdown",
   "metadata": {},
   "source": [
    "**Tab**"
   ]
  },
  {
   "cell_type": "code",
   "execution_count": 118,
   "metadata": {},
   "outputs": [],
   "source": [
    "from tkinter import *\n",
    "from tkinter import ttk\n",
    " \n",
    "window = Tk()\n",
    "window.title(\"Observe the Tab\")\n",
    "\n",
    "tab_control = ttk.Notebook(window)\n",
    "tab1 = ttk.Frame(tab_control)\n",
    "tab_control.add(tab1, text='First')\n",
    "tab_control.pack(expand=1, fill='both')\n",
    " \n",
    "window.mainloop()"
   ]
  },
  {
   "cell_type": "markdown",
   "metadata": {},
   "source": [
    "**Tab**"
   ]
  },
  {
   "cell_type": "code",
   "execution_count": 121,
   "metadata": {},
   "outputs": [],
   "source": [
    "from tkinter import *\n",
    "from tkinter import ttk\n",
    " \n",
    "window = Tk()\n",
    "window.title(\"Experiment with Tabs\")\n",
    "\n",
    "tab_control = ttk.Notebook(window)\n",
    "tab1 = ttk.Frame(tab_control)\n",
    "tab2 = ttk.Frame(tab_control)\n",
    "tab_control.add(tab1, text='First Tab')\n",
    "tab_control.add(tab2, text='Second Tab')\n",
    "\n",
    "lbl1 = Label(tab1, text= 'You are in the First Tab')\n",
    "lbl1.grid(column=0, row=0)\n",
    "lbl2 = Label(tab2, text= 'You are in the Second Tab')\n",
    "lbl2.grid(column=0, row=0)\n",
    "\n",
    "tab_control.pack(expand=1, fill='both')\n",
    " \n",
    "window.mainloop()"
   ]
  },
  {
   "cell_type": "markdown",
   "metadata": {},
   "source": [
    "https://likegeeks.com/python-gui-examples-tkinter-tutorial/"
   ]
  },
  {
   "cell_type": "code",
   "execution_count": null,
   "metadata": {},
   "outputs": [],
   "source": []
  }
 ],
 "metadata": {
  "kernelspec": {
   "display_name": "Python 3",
   "language": "python",
   "name": "python3"
  },
  "language_info": {
   "codemirror_mode": {
    "name": "ipython",
    "version": 3
   },
   "file_extension": ".py",
   "mimetype": "text/x-python",
   "name": "python",
   "nbconvert_exporter": "python",
   "pygments_lexer": "ipython3",
   "version": "3.7.1"
  }
 },
 "nbformat": 4,
 "nbformat_minor": 2
}
